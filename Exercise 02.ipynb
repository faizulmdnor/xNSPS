{
 "cells": [
  {
   "cell_type": "markdown",
   "id": "76abc5df-c9b3-4946-a077-1375b40d4bc5",
   "metadata": {},
   "source": [
    "Question 1:\n",
    "Create a Python program that asks the user for their name, age, and country, then stores these in variables and displays a greeting message.\n",
    "\n",
    "Output:\n",
    "Hello, Faizul Md Nor! You are 45 years old and from Malaysia.\n"
   ]
  },
  {
   "cell_type": "code",
   "execution_count": 10,
   "id": "d9ba8bd5-4a3d-48c3-aa9a-771b9eb4e0aa",
   "metadata": {
    "scrolled": true
   },
   "outputs": [
    {
     "name": "stdin",
     "output_type": "stream",
     "text": [
      "masukan nama:  faizul\n",
      "Masukan umur:  50\n",
      "Negara:  malaysia\n"
     ]
    },
    {
     "name": "stdout",
     "output_type": "stream",
     "text": [
      "Hello faizul! You are 50 and from malaysia\n"
     ]
    }
   ],
   "source": [
    "name = input(\"masukan nama: \")\n",
    "age = input(\"Masukan umur: \")\n",
    "country = input(\"Negara: \")\n",
    "print(f\"Hello {name}! You are {age} and from {country}\")"
   ]
  },
  {
   "cell_type": "code",
   "execution_count": 17,
   "id": "37dbac24-cb3b-45fa-a4a2-f398740d75a4",
   "metadata": {},
   "outputs": [
    {
     "data": {
      "text/plain": [
       "40"
      ]
     },
     "execution_count": 17,
     "metadata": {},
     "output_type": "execute_result"
    }
   ],
   "source": [
    "age2 = int(age) - 10\n",
    "age2"
   ]
  },
  {
   "cell_type": "markdown",
   "id": "0e6a6511-ba3c-448c-9454-a45256e0c768",
   "metadata": {},
   "source": [
    "Question 2:\n",
    "Create a list of numbers. Then calculate and print the sum and the average of the numbers in the list.\n",
    "\n",
    "Output:\n",
    "\n",
    "List of the number:  [12, 8, 15, 7, 10]\n",
    "\n",
    "Sum of numbers: 52\n",
    "\n",
    "Average of numbers: 10.4"
   ]
  },
  {
   "cell_type": "code",
   "execution_count": 4,
   "id": "53c0aa9a-7df2-4743-a661-c47479df29bb",
   "metadata": {},
   "outputs": [
    {
     "name": "stdout",
     "output_type": "stream",
     "text": [
      "List of the numbers: [12, 8, 15, 7, 10]\n",
      "Sum of numbers:  52\n",
      "Average of numbers: 10.4\n"
     ]
    }
   ],
   "source": [
    "numbers = [12, 8, 15, 7, 10]\n",
    "total = sum(numbers) \n",
    "average = total/len(numbers)\n",
    "\n",
    "print(\"List of the numbers:\", numbers)\n",
    "print(\"Sum of numbers: \", total)\n",
    "print(\"Average of numbers:\", average)"
   ]
  },
  {
   "cell_type": "markdown",
   "id": "4877d4d7-d56a-483e-82ed-80c75d5beeea",
   "metadata": {},
   "source": [
    "Question 3:\n",
    "Creates a 3x3 matrix using lists, and prints each row of the matrix on a new line.\n",
    "\n",
    "Output:\n",
    "\n",
    "[1, 2, 3]\n",
    "\n",
    "[4, 5, 6]\n",
    "\n",
    "[7, 8, 9]"
   ]
  },
  {
   "cell_type": "code",
   "execution_count": 5,
   "id": "ca0acadc-1d1c-4eae-90a7-d32dfbb54658",
   "metadata": {},
   "outputs": [
    {
     "name": "stdout",
     "output_type": "stream",
     "text": [
      "[1, 2, 3]\n",
      "[4, 5, 6]\n",
      "[7, 8, 9]\n"
     ]
    }
   ],
   "source": [
    "matrix = ([1, 2, 3], [4, 5, 6], [7, 8, 9])\n",
    "for row in matrix:\n",
    "    print(row)"
   ]
  },
  {
   "cell_type": "markdown",
   "id": "e9a13f71-a4b9-475b-90ef-a0a145b792b6",
   "metadata": {},
   "source": [
    "Question 4:\n",
    "Creates a 2x2 matrix using lists, and prints each row of the matrix on a new line.\n",
    "\n",
    "matrix = ((1,2),(3,4))\n",
    "\n",
    "Output:\n",
    "\n",
    "Top left = 1\n",
    "\n",
    "Bottom right = 4"
   ]
  },
  {
   "cell_type": "code",
   "execution_count": 9,
   "id": "8ec5c9d1",
   "metadata": {},
   "outputs": [
    {
     "name": "stdout",
     "output_type": "stream",
     "text": [
      "top left: 1\n",
      "bottom right: 4\n"
     ]
    }
   ],
   "source": [
    "matrix = ((1,2),(3,4))\n",
    "print(\"top left:\", matrix[0][0])\n",
    "print(\"bottom right:\", matrix[1][1])"
   ]
  },
  {
   "cell_type": "code",
   "execution_count": 18,
   "id": "e97f0b61-1005-429e-8ec7-f3f620d3564d",
   "metadata": {},
   "outputs": [
    {
     "name": "stdout",
     "output_type": "stream",
     "text": [
      "faizul\n"
     ]
    }
   ],
   "source": [
    "print(name)"
   ]
  },
  {
   "cell_type": "code",
   "execution_count": 23,
   "id": "910276e5-78a9-4c5c-8c54-9c672bb1cf0f",
   "metadata": {},
   "outputs": [
    {
     "name": "stdout",
     "output_type": "stream",
     "text": [
      "20\n"
     ]
    }
   ],
   "source": [
    "x = 10  # Global variable\n",
    "\n",
    "def modify_global():\n",
    "    global x  # Declare that we want to modify the global 'x'\n",
    "    x = 20  # Modify the global variable\n",
    "\n",
    "modify_global()\n",
    "print(x)  # Output: 20\n"
   ]
  },
  {
   "cell_type": "code",
   "execution_count": 22,
   "id": "63cba31e-a2e2-465c-a1e8-bacdf45e322b",
   "metadata": {},
   "outputs": [
    {
     "data": {
      "text/plain": [
       "'Sarah'"
      ]
     },
     "execution_count": 22,
     "metadata": {},
     "output_type": "execute_result"
    }
   ],
   "source": [
    "name2 = tukarname()\n",
    "name2"
   ]
  },
  {
   "cell_type": "code",
   "execution_count": null,
   "id": "42d47259-21a7-4ae9-925e-4c775d3ccc37",
   "metadata": {},
   "outputs": [],
   "source": []
  }
 ],
 "metadata": {
  "kernelspec": {
   "display_name": "Python 3 (ipykernel)",
   "language": "python",
   "name": "python3"
  },
  "language_info": {
   "codemirror_mode": {
    "name": "ipython",
    "version": 3
   },
   "file_extension": ".py",
   "mimetype": "text/x-python",
   "name": "python",
   "nbconvert_exporter": "python",
   "pygments_lexer": "ipython3",
   "version": "3.12.7"
  }
 },
 "nbformat": 4,
 "nbformat_minor": 5
}
