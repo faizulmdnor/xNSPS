{
 "cells": [
  {
   "cell_type": "markdown",
   "id": "76abc5df-c9b3-4946-a077-1375b40d4bc5",
   "metadata": {},
   "source": [
    "Question 1:\n",
    "Create a Python program that asks the user for their name, age, and country, then stores these in variables and displays a greeting message.\n",
    "\n",
    "Output:\n",
    "Hello, Faizul Md Nor! You are 45 years old and from Malaysia.\n"
   ]
  },
  {
   "cell_type": "code",
   "execution_count": null,
   "id": "d9ba8bd5-4a3d-48c3-aa9a-771b9eb4e0aa",
   "metadata": {},
   "outputs": [],
   "source": []
  },
  {
   "cell_type": "markdown",
   "id": "0e6a6511-ba3c-448c-9454-a45256e0c768",
   "metadata": {},
   "source": [
    "Question 2:\n",
    "Create a list of numbers. Then calculate and print the sum and the average of the numbers in the list.\n",
    "\n",
    "Output:\n",
    "\n",
    "List of the number:  [12, 8, 15, 7, 10]\n",
    "\n",
    "Sum of numbers: 52\n",
    "\n",
    "Average of numbers: 10.4"
   ]
  },
  {
   "cell_type": "code",
   "execution_count": null,
   "id": "53c0aa9a-7df2-4743-a661-c47479df29bb",
   "metadata": {},
   "outputs": [],
   "source": []
  },
  {
   "cell_type": "markdown",
   "id": "4877d4d7-d56a-483e-82ed-80c75d5beeea",
   "metadata": {},
   "source": [
    "Question 3:\n",
    "Creates a 3x3 matrix using lists, and prints each row of the matrix on a new line.\n",
    "\n",
    "Output:\n",
    "\n",
    "[1, 2, 3]\n",
    "\n",
    "[4, 5, 6]\n",
    "\n",
    "[7, 8, 9]"
   ]
  },
  {
   "cell_type": "code",
   "execution_count": null,
   "id": "ca0acadc-1d1c-4eae-90a7-d32dfbb54658",
   "metadata": {},
   "outputs": [],
   "source": []
  },
  {
   "cell_type": "markdown",
   "id": "e9a13f71-a4b9-475b-90ef-a0a145b792b6",
   "metadata": {},
   "source": [
    "Question 4:\n",
    "Creates a 2x2 matrix using lists, and prints each row of the matrix on a new line.\n",
    "\n",
    "matrix = ((1,2),(3,4))\n",
    "\n",
    "Output:\n",
    "\n",
    "Top left = 1\n",
    "\n",
    "Bottom right = 4"
   ]
  },
  {
   "cell_type": "code",
   "execution_count": null,
   "id": "8ec5c9d1",
   "metadata": {},
   "outputs": [],
   "source": []
  },
  {
   "cell_type": "code",
   "execution_count": null,
   "id": "e97f0b61-1005-429e-8ec7-f3f620d3564d",
   "metadata": {},
   "outputs": [],
   "source": []
  }
 ],
 "metadata": {
  "kernelspec": {
   "display_name": "Python 3 (ipykernel)",
   "language": "python",
   "name": "python3"
  },
  "language_info": {
   "codemirror_mode": {
    "name": "ipython",
    "version": 3
   },
   "file_extension": ".py",
   "mimetype": "text/x-python",
   "name": "python",
   "nbconvert_exporter": "python",
   "pygments_lexer": "ipython3",
   "version": "3.12.7"
  }
 },
 "nbformat": 4,
 "nbformat_minor": 5
}
